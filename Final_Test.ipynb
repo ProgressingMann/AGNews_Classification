{
 "cells": [
  {
   "cell_type": "code",
   "execution_count": 1,
   "id": "0366943c",
   "metadata": {},
   "outputs": [],
   "source": [
    "%config Completer.use_jedi = False\n",
    "import pandas as pd\n",
    "import numpy as np\n",
    "import torchtext\n",
    "import re\n",
    "import time\n",
    "import matplotlib.pyplot as plt"
   ]
  },
  {
   "cell_type": "markdown",
   "id": "94013ce5",
   "metadata": {},
   "source": [
    "## 1) Retrieveing and formatting data."
   ]
  },
  {
   "cell_type": "code",
   "execution_count": 2,
   "id": "98ebfb9c",
   "metadata": {},
   "outputs": [],
   "source": [
    "classes = ['World', 'Sports', 'Business', 'Sci/Tech']"
   ]
  },
  {
   "cell_type": "code",
   "execution_count": 20,
   "id": "07864ab4",
   "metadata": {},
   "outputs": [],
   "source": [
    "train_df = pd.read_csv('data/train.csv')\n",
    "train_df['text'] = train_df['Title'] + ' ' + train_df['Description']\n",
    "train_df.drop(columns=['Title', 'Description'], inplace=True)\n",
    "train_df.rename(columns={'Class Index': 'label'}, inplace=True)\n",
    "train_df['label'] = train_df['label'].apply(lambda x: x-1)"
   ]
  },
  {
   "cell_type": "code",
   "execution_count": 21,
   "id": "ded4c3a1",
   "metadata": {},
   "outputs": [
    {
     "data": {
      "text/html": [
       "<div>\n",
       "<style scoped>\n",
       "    .dataframe tbody tr th:only-of-type {\n",
       "        vertical-align: middle;\n",
       "    }\n",
       "\n",
       "    .dataframe tbody tr th {\n",
       "        vertical-align: top;\n",
       "    }\n",
       "\n",
       "    .dataframe thead th {\n",
       "        text-align: right;\n",
       "    }\n",
       "</style>\n",
       "<table border=\"1\" class=\"dataframe\">\n",
       "  <thead>\n",
       "    <tr style=\"text-align: right;\">\n",
       "      <th></th>\n",
       "      <th>label</th>\n",
       "      <th>text</th>\n",
       "    </tr>\n",
       "  </thead>\n",
       "  <tbody>\n",
       "    <tr>\n",
       "      <th>0</th>\n",
       "      <td>2</td>\n",
       "      <td>Wall St. Bears Claw Back Into the Black (Reute...</td>\n",
       "    </tr>\n",
       "    <tr>\n",
       "      <th>1</th>\n",
       "      <td>2</td>\n",
       "      <td>Carlyle Looks Toward Commercial Aerospace (Reu...</td>\n",
       "    </tr>\n",
       "    <tr>\n",
       "      <th>2</th>\n",
       "      <td>2</td>\n",
       "      <td>Oil and Economy Cloud Stocks' Outlook (Reuters...</td>\n",
       "    </tr>\n",
       "    <tr>\n",
       "      <th>3</th>\n",
       "      <td>2</td>\n",
       "      <td>Iraq Halts Oil Exports from Main Southern Pipe...</td>\n",
       "    </tr>\n",
       "    <tr>\n",
       "      <th>4</th>\n",
       "      <td>2</td>\n",
       "      <td>Oil prices soar to all-time record, posing new...</td>\n",
       "    </tr>\n",
       "  </tbody>\n",
       "</table>\n",
       "</div>"
      ],
      "text/plain": [
       "   label                                               text\n",
       "0      2  Wall St. Bears Claw Back Into the Black (Reute...\n",
       "1      2  Carlyle Looks Toward Commercial Aerospace (Reu...\n",
       "2      2  Oil and Economy Cloud Stocks' Outlook (Reuters...\n",
       "3      2  Iraq Halts Oil Exports from Main Southern Pipe...\n",
       "4      2  Oil prices soar to all-time record, posing new..."
      ]
     },
     "execution_count": 21,
     "metadata": {},
     "output_type": "execute_result"
    }
   ],
   "source": [
    "train_df.head()"
   ]
  },
  {
   "cell_type": "markdown",
   "id": "8822ad04",
   "metadata": {},
   "source": [
    "## 2) Cleaning text data."
   ]
  },
  {
   "cell_type": "code",
   "execution_count": 22,
   "id": "cdd0b16a",
   "metadata": {},
   "outputs": [],
   "source": [
    "#TODO Describe each and every regex pattern and operation. Also state how long did it take to finalize the \n",
    "# text cleaning.\n",
    "def clean_text(text):\n",
    "    pattern = re.compile(r'\\b[a-zA-Z]+\\b')\n",
    "    output = ' '.join(pattern.findall(text)).lower()\n",
    "    output = re.sub(r'\\b[a-z]\\b', '', output)\n",
    "    output = re.sub(r'\\s+', ' ', output).strip()\n",
    "    return output"
   ]
  },
  {
   "cell_type": "code",
   "execution_count": 24,
   "id": "9be76df5",
   "metadata": {},
   "outputs": [],
   "source": [
    "clean_df = pd.DataFrame({\n",
    "    'label': train_df['label'],\n",
    "    'clean_text': train_df['text'].apply(clean_text)\n",
    "})\n"
   ]
  },
  {
   "cell_type": "code",
   "execution_count": 25,
   "id": "c488e8b7",
   "metadata": {},
   "outputs": [
    {
     "data": {
      "text/html": [
       "<div>\n",
       "<style scoped>\n",
       "    .dataframe tbody tr th:only-of-type {\n",
       "        vertical-align: middle;\n",
       "    }\n",
       "\n",
       "    .dataframe tbody tr th {\n",
       "        vertical-align: top;\n",
       "    }\n",
       "\n",
       "    .dataframe thead th {\n",
       "        text-align: right;\n",
       "    }\n",
       "</style>\n",
       "<table border=\"1\" class=\"dataframe\">\n",
       "  <thead>\n",
       "    <tr style=\"text-align: right;\">\n",
       "      <th></th>\n",
       "      <th>label</th>\n",
       "      <th>clean_text</th>\n",
       "    </tr>\n",
       "  </thead>\n",
       "  <tbody>\n",
       "    <tr>\n",
       "      <th>0</th>\n",
       "      <td>2</td>\n",
       "      <td>wall st bears claw back into the black reuters...</td>\n",
       "    </tr>\n",
       "    <tr>\n",
       "      <th>1</th>\n",
       "      <td>2</td>\n",
       "      <td>carlyle looks toward commercial aerospace reut...</td>\n",
       "    </tr>\n",
       "    <tr>\n",
       "      <th>2</th>\n",
       "      <td>2</td>\n",
       "      <td>oil and economy cloud stocks outlook reuters r...</td>\n",
       "    </tr>\n",
       "    <tr>\n",
       "      <th>3</th>\n",
       "      <td>2</td>\n",
       "      <td>iraq halts oil exports from main southern pipe...</td>\n",
       "    </tr>\n",
       "    <tr>\n",
       "      <th>4</th>\n",
       "      <td>2</td>\n",
       "      <td>oil prices soar to all time record posing new ...</td>\n",
       "    </tr>\n",
       "  </tbody>\n",
       "</table>\n",
       "</div>"
      ],
      "text/plain": [
       "   label                                         clean_text\n",
       "0      2  wall st bears claw back into the black reuters...\n",
       "1      2  carlyle looks toward commercial aerospace reut...\n",
       "2      2  oil and economy cloud stocks outlook reuters r...\n",
       "3      2  iraq halts oil exports from main southern pipe...\n",
       "4      2  oil prices soar to all time record posing new ..."
      ]
     },
     "execution_count": 25,
     "metadata": {},
     "output_type": "execute_result"
    }
   ],
   "source": [
    "clean_df.head()"
   ]
  },
  {
   "cell_type": "markdown",
   "id": "a9cda788",
   "metadata": {},
   "source": [
    "#### Store the cleaned data, before preprocessing it."
   ]
  },
  {
   "cell_type": "code",
   "execution_count": 26,
   "id": "1b1e04bb",
   "metadata": {},
   "outputs": [],
   "source": [
    "clean_df.to_pickle('clean_corpus.pkl')"
   ]
  },
  {
   "cell_type": "code",
   "execution_count": null,
   "id": "e1d9176e",
   "metadata": {},
   "outputs": [],
   "source": []
  },
  {
   "cell_type": "markdown",
   "id": "47bccfb0",
   "metadata": {},
   "source": [
    "## 3) Preprocessing the text data.\n",
    "#### Using Stemming and/or Lemmatization."
   ]
  },
  {
   "cell_type": "code",
   "execution_count": 27,
   "id": "cafff569",
   "metadata": {},
   "outputs": [
    {
     "name": "stderr",
     "output_type": "stream",
     "text": [
      "[nltk_data] Downloading package punkt to\n",
      "[nltk_data]     /Users/mannpurohit/nltk_data...\n",
      "[nltk_data]   Package punkt is already up-to-date!\n",
      "[nltk_data] Downloading package stopwords to\n",
      "[nltk_data]     /Users/mannpurohit/nltk_data...\n",
      "[nltk_data]   Package stopwords is already up-to-date!\n"
     ]
    },
    {
     "data": {
      "text/plain": [
       "True"
      ]
     },
     "execution_count": 27,
     "metadata": {},
     "output_type": "execute_result"
    }
   ],
   "source": [
    "import nltk\n",
    "from nltk import word_tokenize\n",
    "from nltk.stem import LancasterStemmer\n",
    "from nltk.stem import WordNetLemmatizer\n",
    "from nltk.corpus import stopwords\n",
    "import concurrent.futures\n",
    "nltk.download('punkt')\n",
    "nltk.download('stopwords')"
   ]
  },
  {
   "cell_type": "code",
   "execution_count": 28,
   "id": "cdd7809e",
   "metadata": {},
   "outputs": [],
   "source": [
    "def preprocess_text(text):\n",
    "    stemmer = LancasterStemmer()\n",
    "#     lemmatizer = WordNetLemmatizer()\n",
    "    words = word_tokenize(text)\n",
    "    pp_list = []\n",
    "    for word in words:\n",
    "        if word not in stopwords.words('english'):\n",
    "            pp_list.append(stemmer.stem(word))\n",
    "#             pp_list.append(lemmatizer.lemmatize(word))\n",
    "            \n",
    "    \n",
    "    pp_text = ' '.join(pp_list)\n",
    "    return pp_text"
   ]
  },
  {
   "cell_type": "code",
   "execution_count": 29,
   "id": "f0a022f4",
   "metadata": {},
   "outputs": [],
   "source": [
    "import multiprocessing\n",
    "\n",
    "n_parallel = multiprocessing.cpu_count() # Number of parallel processes\n",
    "data_range = int(clean_df.shape[0] / n_parallel)\n",
    "def parallel_pp_text(index):\n",
    "    start = index*data_range\n",
    "    end = (index+1)*data_range-1\n",
    "    pp_text_df = clean_df.loc[start:end, 'clean_text'].apply(preprocess_text)\n",
    "    \n",
    "    return pp_text_df"
   ]
  },
  {
   "cell_type": "code",
   "execution_count": 30,
   "id": "270b8fdf",
   "metadata": {},
   "outputs": [
    {
     "name": "stderr",
     "output_type": "stream",
     "text": [
      "/opt/anaconda3/envs/deeplearning/lib/python3.6/site-packages/ipykernel_launcher.py:5: DeprecationWarning: The default dtype for empty Series will be 'object' instead of 'float64' in a future version. Specify a dtype explicitly to silence this warning.\n",
      "  \"\"\"\n"
     ]
    },
    {
     "name": "stdout",
     "output_type": "stream",
     "text": [
      "94.03529770900059\n"
     ]
    }
   ],
   "source": [
    "t1 = time.perf_counter()\n",
    "with concurrent.futures.ProcessPoolExecutor() as executor:\n",
    "    results = executor.map(parallel_pp_text, range(n_parallel))\n",
    "    \n",
    "    pp_txt_srs = pd.Series()\n",
    "    for result in results:\n",
    "        pp_txt_srs = pd.concat((pp_txt_srs, pd.Series(result)))\n",
    "print(time.perf_counter() - t1)\n",
    "\n",
    "clean_df['pp_text'] = pp_txt_srs"
   ]
  },
  {
   "cell_type": "code",
   "execution_count": 31,
   "id": "288f8a45",
   "metadata": {},
   "outputs": [],
   "source": [
    "clean_df.to_pickle('preprocessed_data.pkl')"
   ]
  },
  {
   "cell_type": "markdown",
   "id": "f956f30e",
   "metadata": {},
   "source": [
    "## 4) Retrieving and transforming the test data"
   ]
  },
  {
   "cell_type": "code",
   "execution_count": 32,
   "id": "0e6a76e4",
   "metadata": {},
   "outputs": [],
   "source": [
    "test_df = pd.read_csv('data/test.csv')\n",
    "test_df.rename(columns={'Class Index': 'label'}, inplace=True)\n",
    "test_df['label'] = test_df['label'].apply(lambda x: x-1)\n",
    "\n",
    "test_df['text'] = test_df['Title'] + ' ' + test_df['Description']\n",
    "test_df.drop(columns=['Title', 'Description'], inplace=True)\n",
    "test_df['clean_text'] = test_df['text'].apply(clean_text)\n",
    "test_df['pp_text'] = test_df['clean_text'].apply(preprocess_text)\n",
    "test_df.drop(columns=['text', 'clean_text'], inplace=True)"
   ]
  },
  {
   "cell_type": "markdown",
   "id": "8ef1e803",
   "metadata": {},
   "source": [
    "## 5) Converting text data into numeric vectors"
   ]
  },
  {
   "cell_type": "markdown",
   "id": "f5e8f933",
   "metadata": {},
   "source": [
    "### 5.1) Using TF-IDF"
   ]
  },
  {
   "cell_type": "code",
   "execution_count": 39,
   "id": "88e175b7",
   "metadata": {},
   "outputs": [],
   "source": [
    "train_df = clean_df.copy()"
   ]
  },
  {
   "cell_type": "code",
   "execution_count": 40,
   "id": "4f71c607",
   "metadata": {},
   "outputs": [],
   "source": [
    "x_train, x_test = {}, {}\n",
    "y_train = clean_df['label']\n",
    "y_test = test_df['label']"
   ]
  },
  {
   "cell_type": "code",
   "execution_count": 41,
   "id": "d66dde86",
   "metadata": {
    "scrolled": true
   },
   "outputs": [
    {
     "data": {
      "text/plain": [
       "TfidfVectorizer(vocabulary=['aa', 'aapl', 'aaron', 'ab', 'abab', 'abandon',\n",
       "                            'abba', 'abbey', 'abbot', 'abc', 'abd', 'abduc',\n",
       "                            'abdullah', 'aberdeen', 'abid', 'abids', 'abimael',\n",
       "                            'abkhaz', 'abl', 'ablaz', 'abn', 'aboard',\n",
       "                            'aborigin', 'abort', 'abound', 'abraham',\n",
       "                            'abramovich', 'abroad', 'abrupt', 'abs', ...])"
      ]
     },
     "execution_count": 41,
     "metadata": {},
     "output_type": "execute_result"
    }
   ],
   "source": [
    "from sklearn.feature_extraction.text import TfidfVectorizer\n",
    "tfidf = TfidfVectorizer(max_features=10000, min_df=5)\n",
    "tfidf.fit(train_df['pp_text'])\n",
    "\n",
    "X_names = tfidf.get_feature_names()\n",
    "tfidf_vectorizer = TfidfVectorizer(vocabulary=X_names)\n",
    "tfidf_vectorizer.fit(train_df['pp_text'])"
   ]
  },
  {
   "cell_type": "code",
   "execution_count": 42,
   "id": "0fa55701",
   "metadata": {},
   "outputs": [],
   "source": [
    "x_train['tfidf'] = tfidf_vectorizer.transform(train_df['pp_text']).toarray()\n",
    "x_test['tfidf'] = tfidf_vectorizer.transform(test_df['pp_text']).toarray()"
   ]
  },
  {
   "cell_type": "code",
   "execution_count": null,
   "id": "121b9186",
   "metadata": {},
   "outputs": [],
   "source": []
  },
  {
   "cell_type": "markdown",
   "id": "40a8a83e",
   "metadata": {},
   "source": [
    "### 5.2) Using Tokenizer"
   ]
  },
  {
   "cell_type": "code",
   "execution_count": 43,
   "id": "4e9aa994",
   "metadata": {},
   "outputs": [],
   "source": [
    "import tensorflow as tf\n",
    "from tensorflow import keras\n",
    "from tensorflow.keras.preprocessing.text import Tokenizer\n",
    "from tensorflow.keras.preprocessing.sequence import pad_sequences"
   ]
  },
  {
   "cell_type": "code",
   "execution_count": 44,
   "id": "9753b805",
   "metadata": {},
   "outputs": [],
   "source": [
    "vocab_size = 10000\n",
    "max_len = 100\n",
    "tokenizer = Tokenizer(num_words=vocab_size)"
   ]
  },
  {
   "cell_type": "code",
   "execution_count": 45,
   "id": "daede2c2",
   "metadata": {},
   "outputs": [],
   "source": [
    "tokenizer.fit_on_texts(train_df['pp_text'])\n",
    "\n",
    "x_train['tokenizer'] = tokenizer.texts_to_sequences(train_df['pp_text'])\n",
    "x_test['tokenizer'] = tokenizer.texts_to_sequences(test_df['pp_text'])\n",
    "\n",
    "x_train['tokenizer'] = pad_sequences(x_train['tokenizer'], maxlen=100)\n",
    "x_test['tokenizer'] = pad_sequences(x_test['tokenizer'], maxlen=100)"
   ]
  },
  {
   "cell_type": "markdown",
   "id": "3e2054a8",
   "metadata": {},
   "source": [
    "## 6) Building Machine Learning Models using sklearn"
   ]
  },
  {
   "cell_type": "markdown",
   "id": "3ba08209",
   "metadata": {},
   "source": [
    "### 6.1) Multinomial Naive Bayes"
   ]
  },
  {
   "cell_type": "code",
   "execution_count": 46,
   "id": "ec4da566",
   "metadata": {},
   "outputs": [],
   "source": [
    "from sklearn.naive_bayes import MultinomialNB\n",
    "from sklearn.model_selection import GridSearchCV"
   ]
  },
  {
   "cell_type": "code",
   "execution_count": 47,
   "id": "10424863",
   "metadata": {},
   "outputs": [],
   "source": [
    "mnb = {}\n",
    "mnb_scores = {}"
   ]
  },
  {
   "cell_type": "code",
   "execution_count": 48,
   "id": "6227444e",
   "metadata": {},
   "outputs": [],
   "source": [
    "mnb['tfidf'] = MultinomialNB().fit(x_train['tfidf'], y_train)\n",
    "mnb['tokenizer'] = MultinomialNB().fit(x_train['tokenizer'], y_train)"
   ]
  },
  {
   "cell_type": "code",
   "execution_count": 49,
   "id": "8226e27c",
   "metadata": {},
   "outputs": [],
   "source": [
    "mnb_scores['tfidf_test'] = mnb['tfidf'].score(x_test['tfidf'], y_test)\n",
    "mnb_scores['tokenizer_test'] = mnb['tokenizer'].score(x_test['tokenizer'], y_test)\n",
    "\n",
    "mnb_scores['tfidf_train'] = mnb['tfidf'].score(x_train['tfidf'], y_train)\n",
    "mnb_scores['tokenizer_train'] = mnb['tokenizer'].score(x_train['tokenizer'], y_train)"
   ]
  },
  {
   "cell_type": "code",
   "execution_count": 50,
   "id": "6bcf45ab",
   "metadata": {},
   "outputs": [
    {
     "data": {
      "text/plain": [
       "{'tfidf_test': 0.8972368421052631,\n",
       " 'tokenizer_test': 0.30236842105263156,\n",
       " 'tfidf_train': 0.9072083333333333,\n",
       " 'tokenizer_train': 0.301275}"
      ]
     },
     "execution_count": 50,
     "metadata": {},
     "output_type": "execute_result"
    }
   ],
   "source": [
    "mnb_scores"
   ]
  },
  {
   "cell_type": "code",
   "execution_count": 51,
   "id": "dc629a94",
   "metadata": {},
   "outputs": [],
   "source": [
    "param_grid = {'alpha': [0.01, 0.1, 1]}\n",
    "grid = GridSearchCV(MultinomialNB(), param_grid=param_grid, cv=5)"
   ]
  },
  {
   "cell_type": "code",
   "execution_count": 52,
   "id": "e3eb8d12",
   "metadata": {},
   "outputs": [
    {
     "data": {
      "text/plain": [
       "GridSearchCV(cv=5, estimator=MultinomialNB(),\n",
       "             param_grid={'alpha': [0.01, 0.1, 1]})"
      ]
     },
     "execution_count": 52,
     "metadata": {},
     "output_type": "execute_result"
    }
   ],
   "source": [
    "grid.fit(x_train['tfidf'], y_train)"
   ]
  },
  {
   "cell_type": "code",
   "execution_count": 53,
   "id": "cb4bee0d",
   "metadata": {},
   "outputs": [],
   "source": [
    "best_mnb = grid.best_estimator_"
   ]
  },
  {
   "cell_type": "code",
   "execution_count": 224,
   "id": "97dd54ff",
   "metadata": {
    "collapsed": true
   },
   "outputs": [
    {
     "data": {
      "text/plain": [
       "{'mean_fit_time': array([19.18047714, 18.64394817, 18.44900465]),\n",
       " 'std_fit_time': array([0.54710253, 0.1590319 , 0.22088995]),\n",
       " 'mean_score_time': array([1.26183667, 1.07919483, 1.10490685]),\n",
       " 'std_score_time': array([0.14646254, 0.07338719, 0.07767165]),\n",
       " 'param_alpha': masked_array(data=[0.01, 0.1, 1],\n",
       "              mask=[False, False, False],\n",
       "        fill_value='?',\n",
       "             dtype=object),\n",
       " 'params': [{'alpha': 0.01}, {'alpha': 0.1}, {'alpha': 1}],\n",
       " 'split0_test_score': array([0.87233333, 0.87520833, 0.87754167]),\n",
       " 'split1_test_score': array([0.8895  , 0.8925  , 0.893375]),\n",
       " 'split2_test_score': array([0.89029167, 0.892375  , 0.89225   ]),\n",
       " 'split3_test_score': array([0.90533333, 0.907875  , 0.90875   ]),\n",
       " 'split4_test_score': array([0.88970833, 0.89183333, 0.89133333]),\n",
       " 'mean_test_score': array([0.88943333, 0.89195833, 0.89265   ]),\n",
       " 'std_test_score': array([0.01045023, 0.01033814, 0.00989839]),\n",
       " 'rank_test_score': array([3, 2, 1], dtype=int32)}"
      ]
     },
     "execution_count": 224,
     "metadata": {},
     "output_type": "execute_result"
    }
   ],
   "source": [
    "# grid.cv_results_"
   ]
  },
  {
   "cell_type": "markdown",
   "id": "ed086f5d",
   "metadata": {},
   "source": [
    "## 7) Using Tensorflow and Keras"
   ]
  },
  {
   "cell_type": "code",
   "execution_count": 252,
   "id": "43ae07c8",
   "metadata": {},
   "outputs": [],
   "source": [
    "# #Model Evaluation\n",
    "# from sklearn.metrics import confusion_matrix, precision_score, recall_score, accuracy_score\n",
    "# from mlxtend.plotting import plot_confusion_matrix\n",
    "\n",
    "# #Deep Learning\n",
    "# from tensorflow.keras.callbacks import ModelCheckpoint, EarlyStopping\n",
    "# from tensorflow.keras.utils import plot_model"
   ]
  },
  {
   "cell_type": "code",
   "execution_count": 253,
   "id": "06a2b1dc",
   "metadata": {},
   "outputs": [],
   "source": [
    "import tensorflow as tf\n",
    "from tensorflow import keras\n",
    "from tensorflow.keras.models import Model, Sequential\n",
    "from tensorflow.keras.layers import Embedding, LSTM, Dense, Dropout, GlobalMaxPooling1D, Bidirectional, SimpleRNN, BatchNormalization\n",
    "from tensorflow.keras.optimizers import Adam"
   ]
  },
  {
   "cell_type": "code",
   "execution_count": null,
   "id": "b0d9d6d3",
   "metadata": {},
   "outputs": [],
   "source": []
  },
  {
   "cell_type": "markdown",
   "id": "d7fecb0a",
   "metadata": {},
   "source": [
    "### 7.1 Vanilla Neural Network (VNN)"
   ]
  },
  {
   "cell_type": "code",
   "execution_count": 255,
   "id": "ac1826c4",
   "metadata": {},
   "outputs": [],
   "source": [
    "v_model = {}"
   ]
  },
  {
   "cell_type": "markdown",
   "id": "4af220d4",
   "metadata": {},
   "source": [
    "#### VNN TF-IDF"
   ]
  },
  {
   "cell_type": "code",
   "execution_count": 303,
   "id": "14127d05",
   "metadata": {},
   "outputs": [],
   "source": [
    "v_model['tfidf'] = Sequential([\n",
    "    Dense(512, activation='relu', activity_regularizer=tf.keras.regularizers.l2(0.01), input_shape=(10000,)),\n",
    "    Dropout(0.2),\n",
    "    BatchNormalization(),\n",
    "    Dense(64, activation='relu',activity_regularizer=tf.keras.regularizers.l2(0.01)),\n",
    "    Dropout(0.2),\n",
    "    BatchNormalization(),\n",
    "#     Dense(128, activation='relu'),\n",
    "#     Dense(32, activation='relu'),\n",
    "    Dense(4, activation='softmax')\n",
    "])\n",
    "\n",
    "lr = keras.optimizers.schedules.ExponentialDecay(initial_learning_rate=0.001, decay_steps=1e4, decay_rate=0.90)\n",
    "v_model['tfidf'].compile(optimizer=Adam(learning_rate=lr), metrics=['accuracy'], \n",
    "                         loss='sparse_categorical_crossentropy')\n",
    "\n",
    "# v_model['tfidf'].summary()"
   ]
  },
  {
   "cell_type": "code",
   "execution_count": 304,
   "id": "5cecd448",
   "metadata": {},
   "outputs": [
    {
     "name": "stdout",
     "output_type": "stream",
     "text": [
      "Epoch 1/4\n",
      "469/469 [==============================] - 35s 74ms/step - loss: 0.5139 - accuracy: 0.8427 - val_loss: 1.3678 - val_accuracy: 0.3228\n",
      "Epoch 2/4\n",
      "469/469 [==============================] - 37s 79ms/step - loss: 0.1852 - accuracy: 0.9475 - val_loss: 0.2781 - val_accuracy: 0.9113\n",
      "Epoch 3/4\n",
      "469/469 [==============================] - 39s 82ms/step - loss: 0.1163 - accuracy: 0.9669 - val_loss: 0.3078 - val_accuracy: 0.9111\n",
      "Epoch 4/4\n",
      "469/469 [==============================] - 39s 83ms/step - loss: 0.0862 - accuracy: 0.9756 - val_loss: 0.3550 - val_accuracy: 0.9083\n"
     ]
    },
    {
     "data": {
      "text/plain": [
       "<tensorflow.python.keras.callbacks.History at 0x7f7b0ceca518>"
      ]
     },
     "execution_count": 304,
     "metadata": {},
     "output_type": "execute_result"
    }
   ],
   "source": [
    "v_model['tfidf'].fit(x_train['tfidf'], y_train, epochs=4, batch_size=256, \n",
    "           validation_data=(x_test['tfidf'], y_test))"
   ]
  },
  {
   "cell_type": "code",
   "execution_count": 234,
   "id": "be12adf6",
   "metadata": {},
   "outputs": [],
   "source": [
    "# plt.plot(eeh.epoch, eeh.history['loss'])\n",
    "# plt.plot(eeh.epoch, eeh.history['val_loss'])"
   ]
  },
  {
   "cell_type": "code",
   "execution_count": null,
   "id": "afa87438",
   "metadata": {},
   "outputs": [],
   "source": []
  },
  {
   "cell_type": "markdown",
   "id": "67f56411",
   "metadata": {},
   "source": [
    "#### Vanilla NN Embedding"
   ]
  },
  {
   "cell_type": "code",
   "execution_count": 262,
   "id": "fc432523",
   "metadata": {},
   "outputs": [
    {
     "name": "stdout",
     "output_type": "stream",
     "text": [
      "Model: \"sequential_53\"\n",
      "_________________________________________________________________\n",
      "Layer (type)                 Output Shape              Param #   \n",
      "=================================================================\n",
      "embedding_23 (Embedding)     (None, 100, 300)          3000000   \n",
      "_________________________________________________________________\n",
      "global_max_pooling1d_21 (Glo (None, 300)               0         \n",
      "_________________________________________________________________\n",
      "dense_165 (Dense)            (None, 512)               154112    \n",
      "_________________________________________________________________\n",
      "dropout_76 (Dropout)         (None, 512)               0         \n",
      "_________________________________________________________________\n",
      "batch_normalization_65 (Batc (None, 512)               2048      \n",
      "_________________________________________________________________\n",
      "dense_166 (Dense)            (None, 64)                32832     \n",
      "_________________________________________________________________\n",
      "dropout_77 (Dropout)         (None, 64)                0         \n",
      "_________________________________________________________________\n",
      "batch_normalization_66 (Batc (None, 64)                256       \n",
      "_________________________________________________________________\n",
      "dense_167 (Dense)            (None, 4)                 260       \n",
      "=================================================================\n",
      "Total params: 3,189,508\n",
      "Trainable params: 3,188,356\n",
      "Non-trainable params: 1,152\n",
      "_________________________________________________________________\n"
     ]
    }
   ],
   "source": [
    "embed_size = 128\n",
    "v_model['embedding'] = Sequential([\n",
    "    Embedding(vocab_size, embed_size, input_length=max_len),\n",
    "    GlobalMaxPooling1D(),\n",
    "    Dense(512, activation='relu', activity_regularizer=tf.keras.regularizers.l2(0.01)),\n",
    "    Dropout(0.2),\n",
    "    BatchNormalization(),\n",
    "    Dense(64, activation='relu',activity_regularizer=tf.keras.regularizers.l2(0.01)),\n",
    "    Dropout(0.2),\n",
    "    BatchNormalization(),\n",
    "    Dense(4, activation='softmax')\n",
    "])\n",
    "\n",
    "lr = keras.optimizers.schedules.ExponentialDecay(initial_learning_rate=0.001, decay_steps=1e4, decay_rate=0.90)\n",
    "v_model['embedding'].compile(optimizer=Adam(learning_rate=lr), metrics=['accuracy'], \n",
    "                         loss='sparse_categorical_crossentropy')\n",
    "\n",
    "v_model['embedding'].summary()"
   ]
  },
  {
   "cell_type": "code",
   "execution_count": 263,
   "id": "c8bd6cc2",
   "metadata": {},
   "outputs": [
    {
     "name": "stdout",
     "output_type": "stream",
     "text": [
      "Epoch 1/5\n",
      "469/469 [==============================] - 13s 26ms/step - loss: 0.6675 - accuracy: 0.7638 - val_loss: 0.8258 - val_accuracy: 0.8514\n",
      "Epoch 2/5\n",
      "469/469 [==============================] - 12s 26ms/step - loss: 0.2612 - accuracy: 0.9182 - val_loss: 0.2845 - val_accuracy: 0.9054\n",
      "Epoch 3/5\n",
      "469/469 [==============================] - 12s 26ms/step - loss: 0.2081 - accuracy: 0.9348 - val_loss: 0.3061 - val_accuracy: 0.9021\n",
      "Epoch 4/5\n",
      "469/469 [==============================] - 12s 26ms/step - loss: 0.1691 - accuracy: 0.9473 - val_loss: 0.3013 - val_accuracy: 0.9008\n",
      "Epoch 5/5\n",
      "469/469 [==============================] - 12s 25ms/step - loss: 0.1385 - accuracy: 0.9568 - val_loss: 0.3132 - val_accuracy: 0.9028\n"
     ]
    },
    {
     "data": {
      "text/plain": [
       "<tensorflow.python.keras.callbacks.History at 0x7f787fabd780>"
      ]
     },
     "execution_count": 263,
     "metadata": {},
     "output_type": "execute_result"
    }
   ],
   "source": [
    "v_model['embedding'].fit(x_train['tokenizer'], y_train, epochs=5, batch_size=256, \n",
    "                        validation_data=(x_test['tokenizer'], y_test))"
   ]
  },
  {
   "cell_type": "code",
   "execution_count": null,
   "id": "f8146521",
   "metadata": {},
   "outputs": [],
   "source": []
  },
  {
   "cell_type": "markdown",
   "id": "84997e26",
   "metadata": {},
   "source": [
    "#### Using Tokenizer"
   ]
  },
  {
   "cell_type": "code",
   "execution_count": 266,
   "id": "ecc73fe2",
   "metadata": {},
   "outputs": [
    {
     "name": "stdout",
     "output_type": "stream",
     "text": [
      "Model: \"sequential_55\"\n",
      "_________________________________________________________________\n",
      "Layer (type)                 Output Shape              Param #   \n",
      "=================================================================\n",
      "dense_171 (Dense)            (None, 512)               51712     \n",
      "_________________________________________________________________\n",
      "dropout_80 (Dropout)         (None, 512)               0         \n",
      "_________________________________________________________________\n",
      "batch_normalization_69 (Batc (None, 512)               2048      \n",
      "_________________________________________________________________\n",
      "dense_172 (Dense)            (None, 64)                32832     \n",
      "_________________________________________________________________\n",
      "dropout_81 (Dropout)         (None, 64)                0         \n",
      "_________________________________________________________________\n",
      "batch_normalization_70 (Batc (None, 64)                256       \n",
      "_________________________________________________________________\n",
      "dense_173 (Dense)            (None, 4)                 260       \n",
      "=================================================================\n",
      "Total params: 87,108\n",
      "Trainable params: 85,956\n",
      "Non-trainable params: 1,152\n",
      "_________________________________________________________________\n"
     ]
    }
   ],
   "source": [
    "v_model['tokenizer'] = Sequential([\n",
    "    Dense(512, activation='relu', input_shape=(100,), activity_regularizer=tf.keras.regularizers.l2(0.01)),\n",
    "    Dropout(0.2),\n",
    "    BatchNormalization(),\n",
    "    Dense(64, activation='relu',activity_regularizer=tf.keras.regularizers.l2(0.01)),\n",
    "    Dropout(0.2),\n",
    "    BatchNormalization(),\n",
    "    Dense(4, activation='softmax')\n",
    "])\n",
    "\n",
    "lr = keras.optimizers.schedules.ExponentialDecay(initial_learning_rate=0.001, decay_steps=1e4, decay_rate=0.90)\n",
    "v_model['tokenizer'].compile(optimizer=Adam(learning_rate=lr), metrics=['accuracy'], \n",
    "                         loss='sparse_categorical_crossentropy')\n",
    "\n",
    "v_model['tokenizer'].summary()"
   ]
  },
  {
   "cell_type": "code",
   "execution_count": 267,
   "id": "f1ecff84",
   "metadata": {},
   "outputs": [
    {
     "name": "stdout",
     "output_type": "stream",
     "text": [
      "Epoch 1/5\n",
      "469/469 [==============================] - 2s 4ms/step - loss: 97047.7076 - accuracy: 0.2694 - val_loss: 276.3315 - val_accuracy: 0.2578\n",
      "Epoch 2/5\n",
      "469/469 [==============================] - 2s 4ms/step - loss: 181.1542 - accuracy: 0.2640 - val_loss: 60.1813 - val_accuracy: 0.2583\n",
      "Epoch 3/5\n",
      "469/469 [==============================] - 2s 4ms/step - loss: 41.1164 - accuracy: 0.2616 - val_loss: 26.4307 - val_accuracy: 0.2584\n",
      "Epoch 4/5\n",
      "469/469 [==============================] - 2s 4ms/step - loss: 15.9277 - accuracy: 0.2590 - val_loss: 16.3267 - val_accuracy: 0.2580\n",
      "Epoch 5/5\n",
      "469/469 [==============================] - 2s 4ms/step - loss: 7.8592 - accuracy: 0.2580 - val_loss: 12.4501 - val_accuracy: 0.2567\n"
     ]
    },
    {
     "data": {
      "text/plain": [
       "<tensorflow.python.keras.callbacks.History at 0x7f787fa2a6a0>"
      ]
     },
     "execution_count": 267,
     "metadata": {},
     "output_type": "execute_result"
    }
   ],
   "source": [
    "v_model['tokenizer'].fit(x_train['tokenizer'], y_train, epochs=5, batch_size=256, \n",
    "                        validation_data=(x_test['tokenizer'], y_test))"
   ]
  },
  {
   "cell_type": "code",
   "execution_count": null,
   "id": "8119b573",
   "metadata": {},
   "outputs": [],
   "source": []
  },
  {
   "cell_type": "markdown",
   "id": "9d33e04a",
   "metadata": {},
   "source": [
    "### RNNs"
   ]
  },
  {
   "cell_type": "markdown",
   "id": "c50fbb67",
   "metadata": {},
   "source": [
    "### Using Embedding"
   ]
  },
  {
   "cell_type": "code",
   "execution_count": 283,
   "id": "efaf2002",
   "metadata": {},
   "outputs": [
    {
     "name": "stdout",
     "output_type": "stream",
     "text": [
      "Model: \"sequential_61\"\n",
      "_________________________________________________________________\n",
      "Layer (type)                 Output Shape              Param #   \n",
      "=================================================================\n",
      "embedding_29 (Embedding)     (None, 100, 64)           640000    \n",
      "_________________________________________________________________\n",
      "simple_rnn_17 (SimpleRNN)    (None, 100, 64)           8256      \n",
      "_________________________________________________________________\n",
      "global_max_pooling1d_27 (Glo (None, 64)                0         \n",
      "_________________________________________________________________\n",
      "dense_186 (Dense)            (None, 64)                4160      \n",
      "_________________________________________________________________\n",
      "dropout_89 (Dropout)         (None, 64)                0         \n",
      "_________________________________________________________________\n",
      "batch_normalization_76 (Batc (None, 64)                256       \n",
      "_________________________________________________________________\n",
      "dense_187 (Dense)            (None, 4)                 260       \n",
      "=================================================================\n",
      "Total params: 652,932\n",
      "Trainable params: 652,804\n",
      "Non-trainable params: 128\n",
      "_________________________________________________________________\n"
     ]
    }
   ],
   "source": [
    "embed_size = 64\n",
    "\n",
    "model = Sequential([\n",
    "    Embedding(vocab_size, embed_size, input_length=max_len),\n",
    "#     Bidirectional(LSTM(128, return_sequences=True)),\n",
    "#     Bidirectional(LSTM(64, return_sequences=True)),\n",
    "    SimpleRNN(64, return_sequences=True),\n",
    "    GlobalMaxPooling1D(),\n",
    "#     Dense(512, activation='relu'),\n",
    "#     Dropout(0.25),\n",
    "    Dense(64, activation='relu',activity_regularizer=tf.keras.regularizers.l2(0.01)),\n",
    "    Dropout(0.20),\n",
    "    BatchNormalization(),\n",
    "#     Dense(8, activation='relu',activity_regularizer=tf.keras.regularizers.l2(0.01)),\n",
    "#     Dropout(0.20),\n",
    "#     BatchNormalization(),\n",
    "#     Dense(32, activation='relu'),\n",
    "    Dense(4, activation='softmax')\n",
    "])\n",
    "\n",
    "model.summary()"
   ]
  },
  {
   "cell_type": "code",
   "execution_count": 284,
   "id": "4910f47a",
   "metadata": {},
   "outputs": [],
   "source": [
    "lr = keras.optimizers.schedules.ExponentialDecay(initial_learning_rate=0.001, decay_steps=1e4, decay_rate=0.90)\n",
    "model.compile(loss='sparse_categorical_crossentropy', optimizer=Adam(learning_rate=lr), \n",
    "              metrics=['accuracy'])"
   ]
  },
  {
   "cell_type": "code",
   "execution_count": 285,
   "id": "6b77f482",
   "metadata": {},
   "outputs": [
    {
     "name": "stdout",
     "output_type": "stream",
     "text": [
      "Epoch 1/5\n",
      "469/469 [==============================] - 22s 45ms/step - loss: 0.7307 - accuracy: 0.7020 - val_loss: 0.3292 - val_accuracy: 0.9026\n",
      "Epoch 2/5\n",
      "469/469 [==============================] - 23s 50ms/step - loss: 0.2307 - accuracy: 0.9282 - val_loss: 0.2947 - val_accuracy: 0.9025\n",
      "Epoch 3/5\n",
      "246/469 [==============>...............] - ETA: 11s - loss: 0.1668 - accuracy: 0.9486"
     ]
    },
    {
     "ename": "KeyboardInterrupt",
     "evalue": "",
     "output_type": "error",
     "traceback": [
      "\u001b[0;31m---------------------------------------------------------------------------\u001b[0m",
      "\u001b[0;31mKeyboardInterrupt\u001b[0m                         Traceback (most recent call last)",
      "\u001b[0;32m<ipython-input-285-3fc4b0e0719c>\u001b[0m in \u001b[0;36m<module>\u001b[0;34m\u001b[0m\n\u001b[1;32m      1\u001b[0m model.fit(x_train['tokenizer'], y_train, batch_size=256, epochs=5, \n\u001b[0;32m----> 2\u001b[0;31m           validation_data=(x_test['tokenizer'], y_test))\n\u001b[0m",
      "\u001b[0;32m/opt/anaconda3/envs/deeplearning/lib/python3.6/site-packages/tensorflow/python/keras/engine/training.py\u001b[0m in \u001b[0;36mfit\u001b[0;34m(self, x, y, batch_size, epochs, verbose, callbacks, validation_split, validation_data, shuffle, class_weight, sample_weight, initial_epoch, steps_per_epoch, validation_steps, validation_batch_size, validation_freq, max_queue_size, workers, use_multiprocessing)\u001b[0m\n\u001b[1;32m   1093\u001b[0m                 _r=1):\n\u001b[1;32m   1094\u001b[0m               \u001b[0mcallbacks\u001b[0m\u001b[0;34m.\u001b[0m\u001b[0mon_train_batch_begin\u001b[0m\u001b[0;34m(\u001b[0m\u001b[0mstep\u001b[0m\u001b[0;34m)\u001b[0m\u001b[0;34m\u001b[0m\u001b[0;34m\u001b[0m\u001b[0m\n\u001b[0;32m-> 1095\u001b[0;31m               \u001b[0mtmp_logs\u001b[0m \u001b[0;34m=\u001b[0m \u001b[0mself\u001b[0m\u001b[0;34m.\u001b[0m\u001b[0mtrain_function\u001b[0m\u001b[0;34m(\u001b[0m\u001b[0miterator\u001b[0m\u001b[0;34m)\u001b[0m\u001b[0;34m\u001b[0m\u001b[0;34m\u001b[0m\u001b[0m\n\u001b[0m\u001b[1;32m   1096\u001b[0m               \u001b[0;32mif\u001b[0m \u001b[0mdata_handler\u001b[0m\u001b[0;34m.\u001b[0m\u001b[0mshould_sync\u001b[0m\u001b[0;34m:\u001b[0m\u001b[0;34m\u001b[0m\u001b[0;34m\u001b[0m\u001b[0m\n\u001b[1;32m   1097\u001b[0m                 \u001b[0mcontext\u001b[0m\u001b[0;34m.\u001b[0m\u001b[0masync_wait\u001b[0m\u001b[0;34m(\u001b[0m\u001b[0;34m)\u001b[0m\u001b[0;34m\u001b[0m\u001b[0;34m\u001b[0m\u001b[0m\n",
      "\u001b[0;32m/opt/anaconda3/envs/deeplearning/lib/python3.6/site-packages/tensorflow/python/eager/def_function.py\u001b[0m in \u001b[0;36m__call__\u001b[0;34m(self, *args, **kwds)\u001b[0m\n\u001b[1;32m    825\u001b[0m \u001b[0;34m\u001b[0m\u001b[0m\n\u001b[1;32m    826\u001b[0m     \u001b[0mtracing_count\u001b[0m \u001b[0;34m=\u001b[0m \u001b[0mself\u001b[0m\u001b[0;34m.\u001b[0m\u001b[0mexperimental_get_tracing_count\u001b[0m\u001b[0;34m(\u001b[0m\u001b[0;34m)\u001b[0m\u001b[0;34m\u001b[0m\u001b[0;34m\u001b[0m\u001b[0m\n\u001b[0;32m--> 827\u001b[0;31m     \u001b[0;32mwith\u001b[0m \u001b[0mtrace\u001b[0m\u001b[0;34m.\u001b[0m\u001b[0mTrace\u001b[0m\u001b[0;34m(\u001b[0m\u001b[0mself\u001b[0m\u001b[0;34m.\u001b[0m\u001b[0m_name\u001b[0m\u001b[0;34m)\u001b[0m \u001b[0;32mas\u001b[0m \u001b[0mtm\u001b[0m\u001b[0;34m:\u001b[0m\u001b[0;34m\u001b[0m\u001b[0;34m\u001b[0m\u001b[0m\n\u001b[0m\u001b[1;32m    828\u001b[0m       \u001b[0mresult\u001b[0m \u001b[0;34m=\u001b[0m \u001b[0mself\u001b[0m\u001b[0;34m.\u001b[0m\u001b[0m_call\u001b[0m\u001b[0;34m(\u001b[0m\u001b[0;34m*\u001b[0m\u001b[0margs\u001b[0m\u001b[0;34m,\u001b[0m \u001b[0;34m**\u001b[0m\u001b[0mkwds\u001b[0m\u001b[0;34m)\u001b[0m\u001b[0;34m\u001b[0m\u001b[0;34m\u001b[0m\u001b[0m\n\u001b[1;32m    829\u001b[0m       \u001b[0mcompiler\u001b[0m \u001b[0;34m=\u001b[0m \u001b[0;34m\"xla\"\u001b[0m \u001b[0;32mif\u001b[0m \u001b[0mself\u001b[0m\u001b[0;34m.\u001b[0m\u001b[0m_experimental_compile\u001b[0m \u001b[0;32melse\u001b[0m \u001b[0;34m\"nonXla\"\u001b[0m\u001b[0;34m\u001b[0m\u001b[0;34m\u001b[0m\u001b[0m\n",
      "\u001b[0;31mKeyboardInterrupt\u001b[0m: "
     ]
    }
   ],
   "source": [
    "model.fit(x_train['tokenizer'], y_train, batch_size=256, epochs=5, \n",
    "          validation_data=(x_test['tokenizer'], y_test))"
   ]
  },
  {
   "cell_type": "code",
   "execution_count": null,
   "id": "b90c11df",
   "metadata": {},
   "outputs": [],
   "source": []
  },
  {
   "cell_type": "code",
   "execution_count": 379,
   "id": "a3bda5fb",
   "metadata": {},
   "outputs": [
    {
     "name": "stdout",
     "output_type": "stream",
     "text": [
      "Model: \"sequential_73\"\n",
      "_________________________________________________________________\n",
      "Layer (type)                 Output Shape              Param #   \n",
      "=================================================================\n",
      "embedding_39 (Embedding)     (None, 100, 64)           640000    \n",
      "_________________________________________________________________\n",
      "bidirectional_8 (Bidirection (None, 100, 64)           6208      \n",
      "_________________________________________________________________\n",
      "global_max_pooling1d_38 (Glo (None, 64)                0         \n",
      "_________________________________________________________________\n",
      "dense_211 (Dense)            (None, 512)               33280     \n",
      "_________________________________________________________________\n",
      "dropout_102 (Dropout)        (None, 512)               0         \n",
      "_________________________________________________________________\n",
      "batch_normalization_89 (Batc (None, 512)               2048      \n",
      "_________________________________________________________________\n",
      "dense_212 (Dense)            (None, 4)                 2052      \n",
      "=================================================================\n",
      "Total params: 683,588\n",
      "Trainable params: 682,564\n",
      "Non-trainable params: 1,024\n",
      "_________________________________________________________________\n"
     ]
    }
   ],
   "source": [
    "embed_size = 64\n",
    "\n",
    "brnn = Sequential([\n",
    "    Embedding(vocab_size, embed_size, input_length=max_len),\n",
    "#     Bidirectional(LSTM(128, return_sequences=True)),\n",
    "#     Bidirectional(LSTM(64, return_sequences=True)),\n",
    "    Bidirectional(SimpleRNN(32, return_sequences=True)),\n",
    "    GlobalMaxPooling1D(),\n",
    "#     Dense(512, activation='relu'),\n",
    "#     Dropout(0.25),\n",
    "    Dense(512, activation='relu', activity_regularizer=tf.keras.regularizers.l2(0.01)),\n",
    "    Dropout(0.20),\n",
    "#     Dense(16, activation='relu'),\n",
    "#     Dropout(0.20),\n",
    "    BatchNormalization(),\n",
    "#     Dense(32, activation='relu'),\n",
    "    Dense(4, activation='softmax')\n",
    "])\n",
    "\n",
    "brnn.summary()"
   ]
  },
  {
   "cell_type": "code",
   "execution_count": 380,
   "id": "20b14710",
   "metadata": {},
   "outputs": [],
   "source": [
    "lr = keras.optimizers.schedules.ExponentialDecay(initial_learning_rate=0.001, decay_steps=1e5, decay_rate=0.90)\n",
    "brnn.compile(loss='sparse_categorical_crossentropy', optimizer=Adam(learning_rate=lr), \n",
    "              metrics=['accuracy'])"
   ]
  },
  {
   "cell_type": "code",
   "execution_count": 381,
   "id": "81fe0ef0",
   "metadata": {},
   "outputs": [
    {
     "name": "stdout",
     "output_type": "stream",
     "text": [
      "Epoch 1/2\n",
      "469/469 [==============================] - 18s 37ms/step - loss: 0.6073 - accuracy: 0.7630 - val_loss: 0.4199 - val_accuracy: 0.9022\n",
      "Epoch 2/2\n",
      "469/469 [==============================] - 19s 40ms/step - loss: 0.2151 - accuracy: 0.9306 - val_loss: 0.2919 - val_accuracy: 0.9088\n"
     ]
    },
    {
     "data": {
      "text/plain": [
       "<tensorflow.python.keras.callbacks.History at 0x7f7488bf4860>"
      ]
     },
     "execution_count": 381,
     "metadata": {},
     "output_type": "execute_result"
    }
   ],
   "source": [
    "brnn.fit(x_train['tokenizer'], y_train, batch_size=256, epochs=2, \n",
    "          validation_data=(x_test['tokenizer'], y_test))"
   ]
  },
  {
   "cell_type": "code",
   "execution_count": null,
   "id": "8a5e9867",
   "metadata": {},
   "outputs": [],
   "source": []
  },
  {
   "cell_type": "code",
   "execution_count": null,
   "id": "1e46e8ee",
   "metadata": {},
   "outputs": [],
   "source": []
  },
  {
   "cell_type": "code",
   "execution_count": 293,
   "id": "168f495e",
   "metadata": {},
   "outputs": [
    {
     "name": "stdout",
     "output_type": "stream",
     "text": [
      "Model: \"sequential_67\"\n",
      "_________________________________________________________________\n",
      "Layer (type)                 Output Shape              Param #   \n",
      "=================================================================\n",
      "embedding_34 (Embedding)     (None, 100, 128)          1280000   \n",
      "_________________________________________________________________\n",
      "simple_rnn_24 (SimpleRNN)    (None, 100, 64)           12352     \n",
      "_________________________________________________________________\n",
      "global_max_pooling1d_33 (Glo (None, 64)                0         \n",
      "_________________________________________________________________\n",
      "dense_198 (Dense)            (None, 128)               8320      \n",
      "_________________________________________________________________\n",
      "dropout_95 (Dropout)         (None, 128)               0         \n",
      "_________________________________________________________________\n",
      "batch_normalization_82 (Batc (None, 128)               512       \n",
      "_________________________________________________________________\n",
      "dense_199 (Dense)            (None, 4)                 516       \n",
      "=================================================================\n",
      "Total params: 1,301,700\n",
      "Trainable params: 1,301,444\n",
      "Non-trainable params: 256\n",
      "_________________________________________________________________\n"
     ]
    }
   ],
   "source": [
    "embed_size = 128\n",
    "\n",
    "rnn = Sequential([\n",
    "    Embedding(vocab_size, embed_size, input_length=max_len),\n",
    "#     Bidirectional(LSTM(128, return_sequences=True)),\n",
    "#     Bidirectional(LSTM(64, return_sequences=True)),\n",
    "    SimpleRNN(64, return_sequences=True, activity_regularizer=tf.keras.regularizers.l2(0.01)),\n",
    "    GlobalMaxPooling1D(),\n",
    "#     Dense(512, activation='relu'),\n",
    "#     Dropout(0.25),\n",
    "    Dense(128, activation='relu', activity_regularizer=tf.keras.regularizers.l2(0.01)),\n",
    "    Dropout(0.20),\n",
    "#     Dense(16, activation='relu'),\n",
    "#     Dropout(0.20),\n",
    "    BatchNormalization(),\n",
    "#     Dense(32, activation='relu'),\n",
    "    Dense(4, activation='softmax')\n",
    "])\n",
    "\n",
    "rnn.summary()"
   ]
  },
  {
   "cell_type": "code",
   "execution_count": 296,
   "id": "cdf16650",
   "metadata": {},
   "outputs": [],
   "source": [
    "lr = keras.optimizers.schedules.ExponentialDecay(initial_learning_rate=0.001, decay_steps=1e5, decay_rate=0.90)\n",
    "rnn.compile(loss='sparse_categorical_crossentropy', optimizer=Adam(learning_rate=lr), \n",
    "              metrics=['accuracy'])"
   ]
  },
  {
   "cell_type": "code",
   "execution_count": 297,
   "id": "6307da8b",
   "metadata": {},
   "outputs": [
    {
     "name": "stdout",
     "output_type": "stream",
     "text": [
      "Epoch 1/2\n",
      "469/469 [==============================] - 26s 53ms/step - loss: 0.9273 - accuracy: 0.6910 - val_loss: 0.4651 - val_accuracy: 0.8980\n",
      "Epoch 2/2\n",
      "469/469 [==============================] - 25s 54ms/step - loss: 0.2589 - accuracy: 0.9352 - val_loss: 0.3388 - val_accuracy: 0.9042\n"
     ]
    },
    {
     "data": {
      "text/plain": [
       "<tensorflow.python.keras.callbacks.History at 0x7f7b33d42198>"
      ]
     },
     "execution_count": 297,
     "metadata": {},
     "output_type": "execute_result"
    }
   ],
   "source": [
    "rnn.fit(x_train['tokenizer'], y_train, batch_size=256, epochs=2, \n",
    "          validation_data=(x_test['tokenizer'], y_test))"
   ]
  },
  {
   "cell_type": "code",
   "execution_count": null,
   "id": "a66810a5",
   "metadata": {},
   "outputs": [],
   "source": []
  },
  {
   "cell_type": "code",
   "execution_count": 177,
   "id": "0e64c1db",
   "metadata": {},
   "outputs": [],
   "source": []
  },
  {
   "cell_type": "code",
   "execution_count": 178,
   "id": "818a94bc",
   "metadata": {},
   "outputs": [],
   "source": []
  },
  {
   "cell_type": "code",
   "execution_count": 179,
   "id": "c9478f03",
   "metadata": {},
   "outputs": [
    {
     "data": {
      "text/plain": [
       "array([2, 3, 3, ..., 1, 2, 2])"
      ]
     },
     "execution_count": 179,
     "metadata": {},
     "output_type": "execute_result"
    }
   ],
   "source": [
    "y_pred"
   ]
  },
  {
   "cell_type": "markdown",
   "id": "149b9580",
   "metadata": {},
   "source": [
    "## Plotting Curves"
   ]
  },
  {
   "cell_type": "code",
   "execution_count": null,
   "id": "c2ea8115",
   "metadata": {},
   "outputs": [],
   "source": [
    "from sklearn.preprocessing import OneHotEncoder"
   ]
  },
  {
   "cell_type": "markdown",
   "id": "b1c1696a",
   "metadata": {},
   "source": [
    "### ROC"
   ]
  },
  {
   "cell_type": "code",
   "execution_count": 298,
   "id": "e01a9ec0",
   "metadata": {},
   "outputs": [],
   "source": [
    "mnb_preds, vnn_preds, rnn_preds = {}, {}, {}"
   ]
  },
  {
   "cell_type": "code",
   "execution_count": 299,
   "id": "fccad131",
   "metadata": {},
   "outputs": [],
   "source": [
    "mnb_preds['train'] = best_mnb.predict(x_train['tfidf'])\n",
    "mnb_preds['test'] = best_mnb.predict(x_test['tfidf'])"
   ]
  },
  {
   "cell_type": "code",
   "execution_count": 305,
   "id": "3ee41904",
   "metadata": {},
   "outputs": [],
   "source": [
    "vnn_preds['train'] = np.argmax(v_model['tfidf'].predict(x_train['tfidf']), 1)\n",
    "vnn_preds['test'] = np.argmax(v_model['tfidf'].predict(x_test['tfidf']), 1)"
   ]
  },
  {
   "cell_type": "code",
   "execution_count": 308,
   "id": "7504623c",
   "metadata": {},
   "outputs": [],
   "source": [
    "rnn_preds['train'] = np.argmax(rnn.predict(x_train['tokenizer']), 1)\n",
    "rnn_preds['test'] = np.argmax(rnn.predict(x_test['tokenizer']), 1)"
   ]
  },
  {
   "cell_type": "code",
   "execution_count": null,
   "id": "1f57da65",
   "metadata": {},
   "outputs": [],
   "source": []
  },
  {
   "cell_type": "code",
   "execution_count": null,
   "id": "3b665913",
   "metadata": {},
   "outputs": [],
   "source": []
  },
  {
   "cell_type": "code",
   "execution_count": 312,
   "id": "97a4d3b2",
   "metadata": {},
   "outputs": [],
   "source": [
    "ohe_preds_mnb = {}\n",
    "ohe_preds_mnb['train'] = OneHotEncoder().fit_transform(mnb_preds['train'].reshape(-1, 1))\n",
    "ohe_preds_mnb['test'] = OneHotEncoder().fit_transform(mnb_preds['test'].reshape(-1, 1))"
   ]
  },
  {
   "cell_type": "code",
   "execution_count": 313,
   "id": "0ae15a0b",
   "metadata": {},
   "outputs": [],
   "source": [
    "ohe_preds_vnn = {}\n",
    "ohe_preds_vnn['train'] = OneHotEncoder().fit_transform(vnn_preds['train'].reshape(-1, 1))\n",
    "ohe_preds_vnn['test'] = OneHotEncoder().fit_transform(vnn_preds['test'].reshape(-1, 1))"
   ]
  },
  {
   "cell_type": "code",
   "execution_count": 314,
   "id": "a8ce3810",
   "metadata": {},
   "outputs": [],
   "source": [
    "ohe_preds_rnn = {}\n",
    "ohe_preds_rnn['train'] = OneHotEncoder().fit_transform(rnn_preds['train'].reshape(-1, 1))\n",
    "ohe_preds_rnn['test'] = OneHotEncoder().fit_transform(rnn_preds['test'].reshape(-1, 1))"
   ]
  },
  {
   "cell_type": "code",
   "execution_count": null,
   "id": "11837595",
   "metadata": {},
   "outputs": [],
   "source": []
  },
  {
   "cell_type": "code",
   "execution_count": 325,
   "id": "771b84d7",
   "metadata": {},
   "outputs": [],
   "source": [
    "mnb_fpr = dict()\n",
    "mnb_tpr = dict()\n",
    "mnb_roc_auc = dict()\n",
    "for i in range(4):\n",
    "    mnb_fpr[i], mnb_tpr[i], _ = roc_curve(ohe_y_test[:, i], ohe_preds_mnb['test'].toarray()[:, i])\n",
    "    mnb_roc_auc[i] = auc(mnb_fpr[i], mnb_tpr[i])"
   ]
  },
  {
   "cell_type": "code",
   "execution_count": 327,
   "id": "19a26015",
   "metadata": {},
   "outputs": [],
   "source": [
    "vnn_fpr = dict()\n",
    "vnn_tpr = dict()\n",
    "vnn_roc_auc = dict()\n",
    "for i in range(4):\n",
    "    vnn_fpr[i], vnn_tpr[i], _ = roc_curve(ohe_y_test[:, i], ohe_preds_vnn['test'].toarray()[:, i])\n",
    "    vnn_roc_auc[i] = auc(vnn_fpr[i], vnn_tpr[i])"
   ]
  },
  {
   "cell_type": "code",
   "execution_count": 328,
   "id": "ab8b383d",
   "metadata": {},
   "outputs": [],
   "source": [
    "rnn_fpr = dict()\n",
    "rnn_tpr = dict()\n",
    "rnn_roc_auc = dict()\n",
    "for i in range(4):\n",
    "    rnn_fpr[i], rnn_tpr[i], _ = roc_curve(ohe_y_test[:, i], ohe_preds_rnn['test'].toarray()[:, i])\n",
    "    rnn_roc_auc[i] = auc(rnn_fpr[i], rnn_tpr[i])"
   ]
  },
  {
   "cell_type": "code",
   "execution_count": 334,
   "id": "4c255056",
   "metadata": {},
   "outputs": [
    {
     "data": {
      "image/png": "[encoded data removed]",
      "text/plain": [
       "<Figure size 432x288 with 1 Axes>"
      ]
     },
     "metadata": {
      "needs_background": "light"
     },
     "output_type": "display_data"
    }
   ],
   "source": [
    "plt.figure()\n",
    "plt.plot(mnb_fpr[0], mnb_tpr[0], label=\"ROC\")\n",
    "plt.plot(mnb_fpr[1], mnb_tpr[1], label=\"f\")\n",
    "plt.plot(mnb_fpr[2], mnb_tpr[2], label=\"h\")\n",
    "plt.plot(mnb_fpr[3], mnb_tpr[3], label=\"d\")\n",
    "plt.legend(loc=\"lower right\")\n",
    "plt.show()"
   ]
  },
  {
   "cell_type": "code",
   "execution_count": 335,
   "id": "4ce0144f",
   "metadata": {},
   "outputs": [
    {
     "data": {
      "image/png": "[encoded data removed]",
      "text/plain": [
       "<Figure size 432x288 with 1 Axes>"
      ]
     },
     "metadata": {
      "needs_background": "light"
     },
     "output_type": "display_data"
    }
   ],
   "source": [
    "plt.figure()\n",
    "plt.plot(vnn_fpr[0], vnn_tpr[0], label=\"ROC\")\n",
    "plt.plot(vnn_fpr[1], vnn_tpr[1], label=\"f\")\n",
    "plt.plot(vnn_fpr[2], vnn_tpr[2], label=\"h\")\n",
    "plt.plot(vnn_fpr[3], vnn_tpr[3], label=\"d\")\n",
    "plt.legend(loc=\"lower right\")\n",
    "plt.show()"
   ]
  },
  {
   "cell_type": "code",
   "execution_count": 336,
   "id": "9bdd443e",
   "metadata": {},
   "outputs": [
    {
     "data": {
      "image/png": "[encoded data removed]",
      "text/plain": [
       "<Figure size 432x288 with 1 Axes>"
      ]
     },
     "metadata": {
      "needs_background": "light"
     },
     "output_type": "display_data"
    }
   ],
   "source": [
    "plt.figure()\n",
    "plt.plot(rnn_fpr[0], rnn_tpr[0], label=\"ROC\")\n",
    "plt.plot(rnn_fpr[1], rnn_tpr[1], label=\"f\")\n",
    "plt.plot(rnn_fpr[2], rnn_tpr[2], label=\"h\")\n",
    "plt.plot(rnn_fpr[3], rnn_tpr[3], label=\"d\")\n",
    "plt.legend(loc=\"lower right\")\n",
    "plt.show()"
   ]
  },
  {
   "cell_type": "code",
   "execution_count": 333,
   "id": "5997423d",
   "metadata": {},
   "outputs": [
    {
     "data": {
      "image/png": "[encoded data removed]",
      "text/plain": [
       "<Figure size 432x288 with 1 Axes>"
      ]
     },
     "metadata": {
      "needs_background": "light"
     },
     "output_type": "display_data"
    }
   ],
   "source": [
    "plt.figure()\n",
    "plt.plot(mnb_fpr[3], mnb_tpr[3], label=\"MNB\")\n",
    "plt.plot(vnn_fpr[3], vnn_tpr[3], label=\"VNN\")\n",
    "plt.plot(rnn_fpr[3], rnn_tpr[3], label=\"RNN\")\n",
    "# plt.plot(mnb_fpr[3], mnb_tpr[3], label=\"d\")\n",
    "plt.legend(loc=\"lower right\")\n",
    "plt.show()"
   ]
  },
  {
   "cell_type": "code",
   "execution_count": null,
   "id": "834d927f",
   "metadata": {},
   "outputs": [],
   "source": []
  },
  {
   "cell_type": "code",
   "execution_count": 364,
   "id": "70e19177",
   "metadata": {},
   "outputs": [
    {
     "data": {
      "image/png": "[encoded data removed]",
      "text/plain": [
       "<Figure size 432x288 with 1 Axes>"
      ]
     },
     "metadata": {
      "needs_background": "light"
     },
     "output_type": "display_data"
    }
   ],
   "source": [
    "lw = 2\n",
    "for i in range(4):\n",
    "    plt.plot(\n",
    "        mnb_fpr[i],\n",
    "        mnb_tpr[i],\n",
    "        lw=lw,\n",
    "        label=\"ROC curve of class {0} (area = {1:0.2f})\".format(classes[i], mnb_roc_auc[i]),\n",
    "    )\n",
    "plt.plot([0, 1], [0, 1], color=\"navy\", lw=lw, linestyle=\"--\")\n",
    "plt.xlim([0.0, 1.0])\n",
    "plt.ylim([0.0, 1.05])\n",
    "plt.xlabel(\"False Positive Rate\")\n",
    "plt.ylabel(\"True Positive Rate\")\n",
    "plt.title(\"Receiver operating characteristic for MNB\")\n",
    "plt.legend(loc=\"lower right\")\n",
    "plt.savefig('mnb_roc.jpg')\n",
    "plt.show()"
   ]
  },
  {
   "cell_type": "code",
   "execution_count": 365,
   "id": "abf366b8",
   "metadata": {},
   "outputs": [
    {
     "data": {
      "image/png": "[encoded data removed]",
      "text/plain": [
       "<Figure size 432x288 with 1 Axes>"
      ]
     },
     "metadata": {
      "needs_background": "light"
     },
     "output_type": "display_data"
    }
   ],
   "source": [
    "lw = 2\n",
    "for i in range(4):\n",
    "    plt.plot(\n",
    "        vnn_fpr[i],\n",
    "        vnn_tpr[i],\n",
    "        lw=lw,\n",
    "        label=\"ROC curve of class {0} (area = {1:0.2f})\".format(classes[i], vnn_roc_auc[i]),\n",
    "    )\n",
    "plt.plot([0, 1], [0, 1], color=\"navy\", lw=lw, linestyle=\"--\")\n",
    "plt.xlim([0.0, 1.0])\n",
    "plt.ylim([0.0, 1.05])\n",
    "plt.xlabel(\"False Positive Rate\")\n",
    "plt.ylabel(\"True Positive Rate\")\n",
    "plt.title(\"Receiver operating characteristic for VNN\")\n",
    "plt.legend(loc=\"lower right\")\n",
    "plt.savefig('vnn_roc.jpg')\n",
    "plt.show()"
   ]
  },
  {
   "cell_type": "code",
   "execution_count": 366,
   "id": "d7524d05",
   "metadata": {},
   "outputs": [
    {
     "data": {
      "image/png": "[encoded data removed]",
      "text/plain": [
       "<Figure size 432x288 with 1 Axes>"
      ]
     },
     "metadata": {
      "needs_background": "light"
     },
     "output_type": "display_data"
    }
   ],
   "source": [
    "lw = 2\n",
    "for i in range(4):\n",
    "    plt.plot(\n",
    "        rnn_fpr[i],\n",
    "        rnn_tpr[i],\n",
    "        lw=lw,\n",
    "        label=\"ROC curve of class {0} (area = {1:0.2f})\".format(classes[i], rnn_roc_auc[i]),\n",
    "    )\n",
    "plt.plot([0, 1], [0, 1], color=\"navy\", lw=lw, linestyle=\"--\")\n",
    "plt.xlim([0.0, 1.0])\n",
    "plt.ylim([0.0, 1.05])\n",
    "plt.xlabel(\"False Positive Rate\")\n",
    "plt.ylabel(\"True Positive Rate\")\n",
    "plt.title(\"Receiver operating characteristic RNN\")\n",
    "plt.legend(loc=\"lower right\")\n",
    "plt.savefig('rnn_roc.jpg')\n",
    "plt.show()"
   ]
  },
  {
   "cell_type": "markdown",
   "id": "867296de",
   "metadata": {},
   "source": [
    "### Confusion matrix"
   ]
  },
  {
   "cell_type": "code",
   "execution_count": 352,
   "id": "d8a1394f",
   "metadata": {},
   "outputs": [],
   "source": [
    "from sklearn.metrics import confusion_matrix, ConfusionMatrixDisplay\n",
    "cm = {}"
   ]
  },
  {
   "cell_type": "code",
   "execution_count": null,
   "id": "664e72f0",
   "metadata": {},
   "outputs": [],
   "source": []
  },
  {
   "cell_type": "code",
   "execution_count": 362,
   "id": "b670c05a",
   "metadata": {},
   "outputs": [
    {
     "data": {
      "image/png": "[encoded data removed]",
      "text/plain": [
       "<Figure size 432x288 with 2 Axes>"
      ]
     },
     "metadata": {
      "needs_background": "light"
     },
     "output_type": "display_data"
    }
   ],
   "source": [
    "cm['mnb'] = confusion_matrix(y_test, mnb_preds['test'])\n",
    "cmdisplay = ConfusionMatrixDisplay(cm['mnb'], display_labels=classes)\n",
    "cmdisplay.plot(cmap='PuBu')\n",
    "plt.title(\"Confusion Matrix for MNB\")\n",
    "plt.savefig(\"mnb_cm\")"
   ]
  },
  {
   "cell_type": "code",
   "execution_count": 361,
   "id": "d932bbf0",
   "metadata": {},
   "outputs": [
    {
     "data": {
      "image/png": "[encoded data removed]",
      "text/plain": [
       "<Figure size 432x288 with 2 Axes>"
      ]
     },
     "metadata": {
      "needs_background": "light"
     },
     "output_type": "display_data"
    }
   ],
   "source": [
    "cm['vnn'] = confusion_matrix(y_test, vnn_preds['test'])\n",
    "cmdisplay = ConfusionMatrixDisplay(cm['vnn'], display_labels=classes)\n",
    "cmdisplay.plot(cmap='PuBu',)\n",
    "plt.title(\"Confusion Matrix for VNN\")\n",
    "plt.savefig(\"vnn_cm\")"
   ]
  },
  {
   "cell_type": "code",
   "execution_count": 363,
   "id": "27421485",
   "metadata": {},
   "outputs": [
    {
     "data": {
      "image/png": "[encoded data removed]",
      "text/plain": [
       "<Figure size 432x288 with 2 Axes>"
      ]
     },
     "metadata": {
      "needs_background": "light"
     },
     "output_type": "display_data"
    }
   ],
   "source": [
    "cm['rnn'] = confusion_matrix(y_test, rnn_preds['test'])\n",
    "cmdisplay = ConfusionMatrixDisplay(cm['rnn'], display_labels=classes)\n",
    "cmdisplay.plot(cmap='PuBu',)\n",
    "plt.title(\"Confusion Matrix for RNN\")\n",
    "plt.savefig(\"rnn_cm\")"
   ]
  },
  {
   "cell_type": "code",
   "execution_count": null,
   "id": "5c4b0c4e",
   "metadata": {},
   "outputs": [],
   "source": []
  }
 ],
 "metadata": {
  "kernelspec": {
   "display_name": "DeepLearning",
   "language": "python",
   "name": "deeplearning"
  },
  "language_info": {
   "codemirror_mode": {
    "name": "ipython",
    "version": 3
   },
   "file_extension": ".py",
   "mimetype": "text/x-python",
   "name": "python",
   "nbconvert_exporter": "python",
   "pygments_lexer": "ipython3",
   "version": "3.6.13"
  }
 },
 "nbformat": 4,
 "nbformat_minor": 5
}
